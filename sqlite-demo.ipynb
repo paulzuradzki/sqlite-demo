{
 "cells": [
  {
   "cell_type": "markdown",
   "metadata": {},
   "source": [
    "# SQLite with Python\n",
    "\n",
    "### What Is SQLite?\n",
    "[SQLite](https://www.sqlite.org/index.html) is a C-language library that implements a small, fast, self-contained, high-reliability, full-featured, SQL database engine. SQLite is the most used database engine in the world. SQLite is built into all mobile phones and most computers and comes bundled inside countless other applications that people use every day.\n",
    "\n",
    "### How can we use SQLite for analytics?\n",
    "Sample uses\n",
    "* querying larger-than-memory data\n",
    "* one-off data exchange that also communicates database properties and relationships\n",
    "* quickly iterating on portable sqlite database before migrating to a more enterprise-grade RDBMS (ex: PostgreSQL).\n",
    "\n",
    "If we have a data set with more data than can fit into memory, SQLite is an extremely portable way to query that data. We can even share SQLite files to exchange data and information about table relationships.\n",
    "\n",
    "SQLite does is not ideal for an entire department of analysts to perform read-heavy access patterns and reporting. For smaller teams, it may be a suitable low-barrier solution or prototype.\n",
    "\n",
    "### Credits\n",
    "Abbreviated from Sebastian  Raschka's very good tutorial here: https://sebastianraschka.com/Articles/2014_sqlite_in_python_tutorial.html"
   ]
  },
  {
   "cell_type": "markdown",
   "metadata": {},
   "source": [
    "Outline\n",
    "* Creating a new SQLite database\n",
    "* Connecting to an SQLite database\n",
    "* Adding new columns\n",
    "* Inserting and updating rows\n",
    "* Creating unique indexes\n",
    "* Querying the database - Selecting rows\n",
    "* Security and injection attacks\n",
    "* Date and time operations\n",
    "* Retrieving column names\n",
    "* Printing a database summary"
   ]
  },
  {
   "cell_type": "markdown",
   "metadata": {},
   "source": [
    "# Creating a new SQLite database"
   ]
  },
  {
   "cell_type": "code",
   "execution_count": 1,
   "metadata": {},
   "outputs": [],
   "source": [
    "import sqlite3\n",
    "\n",
    "sqlite_file = 'my_first_db.sqlite'    # name of the sqlite database file\n",
    "table_name1 = 'my_table_1'  # name of the table to be created\n",
    "table_name2 = 'my_table_2'  # name of the table to be created\n",
    "new_field = 'my_1st_column' # name of the column\n",
    "field_type = 'INTEGER'  # column data type\n",
    "\n",
    "# Connecting to the database file\n",
    "conn = sqlite3.connect(sqlite_file)\n",
    "c = conn.cursor()\n",
    "\n",
    "# Creating a new SQLite table with 1 column\n",
    "c.execute('CREATE TABLE {tn} ({nf} {ft})'\\\n",
    "        .format(tn=table_name1, nf=new_field, ft=field_type))\n",
    "\n",
    "# Creating a second table with 1 column and set it as PRIMARY KEY\n",
    "# note that PRIMARY KEY column must consist of unique values!\n",
    "c.execute('CREATE TABLE {tn} ({nf} {ft} PRIMARY KEY)'\\\n",
    "        .format(tn=table_name2, nf=new_field, ft=field_type))\n",
    "\n",
    "# Committing changes and closing the connection to the database file\n",
    "conn.commit()\n",
    "conn.close()"
   ]
  },
  {
   "cell_type": "markdown",
   "metadata": {},
   "source": [
    "# Connecting to an SQLite database"
   ]
  },
  {
   "cell_type": "code",
   "execution_count": 2,
   "metadata": {},
   "outputs": [],
   "source": [
    "# sample connection workflow\n",
    "\n",
    "import sqlite3\n",
    "\n",
    "sqlite_file = r'./my_first_db.sqlite'\n",
    "conn = sqlite3.connect(sqlite_file)\n",
    "c = conn.cursor()\n",
    "\n",
    "# <execute some sql>\n",
    "\n",
    "conn.commit()\n",
    "conn.close()"
   ]
  },
  {
   "cell_type": "markdown",
   "metadata": {},
   "source": [
    "# Adding new columns"
   ]
  },
  {
   "cell_type": "code",
   "execution_count": 3,
   "metadata": {},
   "outputs": [],
   "source": [
    "import sqlite3\n",
    "\n",
    "sqlite_file = 'my_first_db.sqlite'    # name of the sqlite database file\n",
    "table_name = 'my_table_2'   # name of the table to be created\n",
    "id_column = 'my_1st_column' # name of the PRIMARY KEY column\n",
    "new_column1 = 'my_2nd_column'  # name of the new column\n",
    "new_column2 = 'my_3rd_column'  # name of the new column\n",
    "column_type = 'TEXT' # E.g., INTEGER, TEXT, NULL, REAL, BLOB\n",
    "default_val = 'Hello World' # a default value for the new column rows\n",
    "\n",
    "# Connecting to the database file\n",
    "conn = sqlite3.connect(sqlite_file)\n",
    "c = conn.cursor()\n",
    "\n",
    "# A) Adding a new column without a row value\n",
    "c.execute(\"ALTER TABLE {tn} ADD COLUMN '{cn}' {ct}\"\\\n",
    "        .format(tn=table_name, cn=new_column1, ct=column_type))\n",
    "\n",
    "# B) Adding a new column with a default row value\n",
    "c.execute(\"ALTER TABLE {tn} ADD COLUMN '{cn}' {ct} DEFAULT '{df}'\"\\\n",
    "        .format(tn=table_name, cn=new_column2, ct=column_type, df=default_val))\n",
    "\n",
    "# Committing changes and closing the connection to the database file\n",
    "conn.commit()\n",
    "conn.close()"
   ]
  },
  {
   "cell_type": "markdown",
   "metadata": {},
   "source": [
    "# Inserting and updating rows"
   ]
  },
  {
   "cell_type": "code",
   "execution_count": 4,
   "metadata": {},
   "outputs": [],
   "source": [
    "import sqlite3\n",
    "\n",
    "sqlite_file = 'my_first_db.sqlite'\n",
    "table_name = 'my_table_2'\n",
    "id_column = 'my_1st_column'\n",
    "column_name = 'my_2nd_column'\n",
    "\n",
    "# Connecting to the database file\n",
    "conn = sqlite3.connect(sqlite_file)\n",
    "c = conn.cursor()\n",
    "\n",
    "# A) Inserts an ID with a specific value in a second column\n",
    "try:\n",
    "    c.execute(\"INSERT INTO {tn} ({idf}, {cn}) VALUES (123456, 'test')\".\\\n",
    "        format(tn=table_name, idf=id_column, cn=column_name))\n",
    "except sqlite3.IntegrityError:\n",
    "    print('ERROR: ID already exists in PRIMARY KEY column {}'.format(id_column))\n",
    "\n",
    "# B) Tries to insert an ID (if it does not exist yet)\n",
    "# with a specific value in a second column\n",
    "c.execute(\"INSERT OR IGNORE INTO {tn} ({idf}, {cn}) VALUES (123456, 'test')\".\\\n",
    "        format(tn=table_name, idf=id_column, cn=column_name))\n",
    "\n",
    "# C) Updates the newly inserted or pre-existing entry            \n",
    "c.execute(\"UPDATE {tn} SET {cn}=('Hi World') WHERE {idf}=(123456)\".\\\n",
    "        format(tn=table_name, cn=column_name, idf=id_column))\n",
    "\n",
    "conn.commit()\n",
    "conn.close()"
   ]
  },
  {
   "cell_type": "markdown",
   "metadata": {},
   "source": [
    "# Creating unique indexes"
   ]
  },
  {
   "cell_type": "code",
   "execution_count": 5,
   "metadata": {},
   "outputs": [],
   "source": [
    "import sqlite3\n",
    "\n",
    "sqlite_file = 'my_first_db.sqlite'    # name of the sqlite database file\n",
    "table_name = 'my_table_2'   # name of the table to be created\n",
    "id_column = 'my_1st_column' # name of the PRIMARY KEY column\n",
    "new_column = 'unique_names'  # name of the new column\n",
    "column_type = 'TEXT' # E.g., INTEGER, TEXT, NULL, REAL, BLOB\n",
    "index_name = 'my_unique_index'  # name for the new unique index\n",
    "\n",
    "# Connecting to the database file\n",
    "conn = sqlite3.connect(sqlite_file)\n",
    "c = conn.cursor()\n",
    "\n",
    "# Adding a new column and update some record\n",
    "c.execute(\"ALTER TABLE {tn} ADD COLUMN '{cn}' {ct}\"\\\n",
    "        .format(tn=table_name, cn=new_column, ct=column_type))\n",
    "c.execute(\"UPDATE {tn} SET {cn}='sebastian_r' WHERE {idf}=123456\".\\\n",
    "        format(tn=table_name, idf=id_column, cn=new_column))\n",
    "\n",
    "# Creating an unique index\n",
    "c.execute('CREATE INDEX {ix} on {tn}({cn})'\\\n",
    "        .format(ix=index_name, tn=table_name, cn=new_column))\n",
    "\n",
    "# Dropping the unique index\n",
    "# E.g., to avoid future conflicts with update/insert functions\n",
    "c.execute('DROP INDEX {ix}'.format(ix=index_name))\n",
    "\n",
    "# Committing changes and closing the connection to the database file\n",
    "conn.commit()\n",
    "conn.close()"
   ]
  },
  {
   "cell_type": "markdown",
   "metadata": {},
   "source": [
    "# Querying the database - Selecting rows"
   ]
  },
  {
   "cell_type": "code",
   "execution_count": 6,
   "metadata": {},
   "outputs": [
    {
     "name": "stdout",
     "output_type": "stream",
     "text": [
      "1): [(123456, 'Hi World', 'Hello World', 'sebastian_r')]\n",
      "2): [('Hi World',)]\n",
      "3): [('Hi World', 'Hello World')]\n",
      "4): [(123456, 'Hi World', 'Hello World', 'sebastian_r')]\n",
      "5): (123456, 'Hi World', 'Hello World', 'sebastian_r')\n"
     ]
    }
   ],
   "source": [
    "import sqlite3\n",
    "\n",
    "sqlite_file = 'my_first_db.sqlite'    # name of the sqlite database file\n",
    "table_name = 'my_table_2'   # name of the table to be queried\n",
    "id_column = 'my_1st_column'\n",
    "some_id = 123456\n",
    "column_2 = 'my_2nd_column'\n",
    "column_3 = 'my_3rd_column'\n",
    "\n",
    "# Connecting to the database file\n",
    "conn = sqlite3.connect(sqlite_file)\n",
    "c = conn.cursor()\n",
    "\n",
    "# 1) Contents of all columns for row that match a certain value in 1 column\n",
    "c.execute('SELECT * FROM {tn} WHERE {cn}=\"Hi World\"'.\\\n",
    "        format(tn=table_name, cn=column_2))\n",
    "all_rows = c.fetchall()\n",
    "print('1):', all_rows)\n",
    "\n",
    "# 2) Value of a particular column for rows that match a certain value in column_1\n",
    "c.execute('SELECT ({coi}) FROM {tn} WHERE {cn}=\"Hi World\"'.\\\n",
    "        format(coi=column_2, tn=table_name, cn=column_2))\n",
    "all_rows = c.fetchall()\n",
    "print('2):', all_rows)\n",
    "\n",
    "# 3) Value of 2 particular columns for rows that match a certain value in 1 column\n",
    "c.execute('SELECT {coi1},{coi2} FROM {tn} WHERE {coi1}=\"Hi World\"'.\\\n",
    "        format(coi1=column_2, coi2=column_3, tn=table_name, cn=column_2))\n",
    "all_rows = c.fetchall()\n",
    "print('3):', all_rows)\n",
    "\n",
    "# 4) Selecting only up to 10 rows that match a certain value in 1 column\n",
    "c.execute('SELECT * FROM {tn} WHERE {cn}=\"Hi World\" LIMIT 10'.\\\n",
    "        format(tn=table_name, cn=column_2))\n",
    "ten_rows = c.fetchall()\n",
    "print('4):', ten_rows)\n",
    "\n",
    "# 5) Check if a certain ID exists and print its column contents\n",
    "c.execute(\"SELECT * FROM {tn} WHERE {idf}={my_id}\".\\\n",
    "        format(tn=table_name, cn=column_2, idf=id_column, my_id=some_id))\n",
    "id_exists = c.fetchone()\n",
    "if id_exists:\n",
    "    print('5): {}'.format(id_exists))\n",
    "else:\n",
    "    print('5): {} does not exist'.format(some_id))\n",
    "\n",
    "# Closing the connection to the database file\n",
    "conn.close()"
   ]
  },
  {
   "cell_type": "markdown",
   "metadata": {},
   "source": [
    "# Security and injection attacks"
   ]
  },
  {
   "cell_type": "markdown",
   "metadata": {},
   "source": [
    "```python\n",
    "# 5) Check if a certain ID exists and print its column contents\n",
    "c.execute(\"SELECT * FROM {tn} WHERE {idf}={my_id}\".\\\n",
    "        format(tn=table_name, cn=column_2, idf=id_column, my_id=some_id))\n",
    "```\n",
    "\n",
    "\n",
    "```python\n",
    "# 5) Check if a certain ID exists and print its column contents\n",
    "c.execute(\"SELECT * FROM {tn} WHERE {idf}=?\".\\\n",
    "        format(tn=table_name, cn=column_2, idf=id_column), (123456,))\n",
    "```\n",
    "\n",
    "```python\n",
    "def clean_name(some_var):\n",
    "    return ''.join(char for char in some_var if char.isalnum())\n",
    "```"
   ]
  },
  {
   "cell_type": "markdown",
   "metadata": {},
   "source": [
    "# Date and time operations"
   ]
  },
  {
   "cell_type": "code",
   "execution_count": 7,
   "metadata": {},
   "outputs": [
    {
     "name": "stdout",
     "output_type": "stream",
     "text": [
      "4) all entries between ~2013 - 2015: []\n",
      "5) entries older than 1 day: []\n"
     ]
    }
   ],
   "source": [
    "import sqlite3\n",
    "\n",
    "sqlite_file = 'my_first_db.sqlite'    # name of the sqlite database file\n",
    "table_name = 'my_table_3'   # name of the table to be created\n",
    "id_field = 'id' # name of the ID column\n",
    "date_col = 'date' # name of the date column\n",
    "time_col = 'time'# name of the time column\n",
    "date_time_col = 'date_time' # name of the date & time column\n",
    "field_type = 'TEXT'  # column data type\n",
    "\n",
    "# Connecting to the database file\n",
    "conn = sqlite3.connect(sqlite_file)\n",
    "c = conn.cursor()\n",
    "\n",
    "# Creating a new SQLite table with 1 column\n",
    "c.execute('CREATE TABLE {tn} ({fn} {ft} PRIMARY KEY)'\\\n",
    "        .format(tn=table_name, fn=id_field, ft=field_type))\n",
    "\n",
    "# A) Adding a new column to save date insert a row with the current date\n",
    "# in the following format: YYYY-MM-DD\n",
    "# e.g., 2014-03-06\n",
    "c.execute(\"ALTER TABLE {tn} ADD COLUMN '{cn}'\"\\\n",
    "         .format(tn=table_name, cn=date_col))\n",
    "# insert a new row with the current date and time, e.g., 2014-03-06\n",
    "c.execute(\"INSERT INTO {tn} ({idf}, {cn}) VALUES('some_id1', DATE('now'))\"\\\n",
    "         .format(tn=table_name, idf=id_field, cn=date_col))\n",
    "\n",
    "# B) Adding a new column to save date and time and update with the current time\n",
    "# in the following format: HH:MM:SS\n",
    "# e.g., 16:26:37\n",
    "c.execute(\"ALTER TABLE {tn} ADD COLUMN '{cn}'\"\\\n",
    "         .format(tn=table_name, cn=time_col))\n",
    "# update row for the new current date and time column, e.g., 2014-03-06 16:26:37\n",
    "c.execute(\"UPDATE {tn} SET {cn}=TIME('now') WHERE {idf}='some_id1'\"\\\n",
    "         .format(tn=table_name, idf=id_field, cn=time_col))\n",
    "\n",
    "# C) Adding a new column to save date and time and update with current date-time\n",
    "# in the following format: YYYY-MM-DD HH:MM:SS\n",
    "# e.g., 2014-03-06 16:26:37\n",
    "c.execute(\"ALTER TABLE {tn} ADD COLUMN '{cn}'\"\\\n",
    "         .format(tn=table_name, cn=date_time_col))\n",
    "# update row for the new current date and time column, e.g., 2014-03-06 16:26:37\n",
    "c.execute(\"UPDATE {tn} SET {cn}=(CURRENT_TIMESTAMP) WHERE {idf}='some_id1'\"\\\n",
    "         .format(tn=table_name, idf=id_field, cn=date_time_col))\n",
    "\n",
    "# The database should now look like this:\n",
    "# id         date           time        date_time\n",
    "# \"some_id1\" \"2014-03-06\"   \"16:42:30\"  \"2014-03-06 16:42:30\"\n",
    "\n",
    "# 4) Retrieve all IDs of entries between 2 date_times\n",
    "c.execute(\"SELECT {idf} FROM {tn} WHERE {cn} BETWEEN '2013-03-06 10:10:10' AND '2015-03-06 10:10:10'\".\\\n",
    "    format(idf=id_field, tn=table_name, cn=date_time_col))\n",
    "all_date_times = c.fetchall()\n",
    "print('4) all entries between ~2013 - 2015:', all_date_times)\n",
    "\n",
    "# 5) Retrieve all IDs of entries between that are older than 1 day and 12 hrs\n",
    "c.execute(\"SELECT {idf} FROM {tn} WHERE DATE('now') - {dc} >= 1 AND DATE('now') - {tc} >= 12\".\\\n",
    "    format(idf=id_field, tn=table_name, dc=date_col, tc=time_col))\n",
    "all_1day12hrs_entries = c.fetchall()\n",
    "print('5) entries older than 1 day:', all_1day12hrs_entries)\n",
    "\n",
    "# Committing changes and closing the connection to the database file\n",
    "conn.commit()\n",
    "conn.close()"
   ]
  },
  {
   "cell_type": "markdown",
   "metadata": {},
   "source": [
    "# Retrieving column names"
   ]
  },
  {
   "cell_type": "code",
   "execution_count": 8,
   "metadata": {},
   "outputs": [
    {
     "name": "stdout",
     "output_type": "stream",
     "text": [
      "['id', 'date', 'time', 'date_time']\n"
     ]
    }
   ],
   "source": [
    "import sqlite3\n",
    "\n",
    "sqlite_file = 'my_first_db.sqlite'\n",
    "table_name = 'my_table_3'\n",
    "\n",
    "# Connecting to the database file\n",
    "conn = sqlite3.connect(sqlite_file)\n",
    "c = conn.cursor()\n",
    "\n",
    "# Retrieve column information\n",
    "# Every column will be represented by a tuple with the following attributes:\n",
    "# (id, name, type, notnull, default_value, primary_key)\n",
    "c.execute('PRAGMA TABLE_INFO({})'.format(table_name))\n",
    "\n",
    "# collect names in a list\n",
    "names = [tup[1] for tup in c.fetchall()]\n",
    "print(names)\n",
    "# e.g., ['id', 'date', 'time', 'date_time']\n",
    "\n",
    "# Closing the connection to the database file\n",
    "conn.close()"
   ]
  },
  {
   "cell_type": "markdown",
   "metadata": {},
   "source": [
    "# Printing a database summary"
   ]
  },
  {
   "cell_type": "code",
   "execution_count": 9,
   "metadata": {},
   "outputs": [
    {
     "name": "stdout",
     "output_type": "stream",
     "text": [
      "\n",
      "Total rows: 1\n",
      "\n",
      "Column Info:\n",
      "ID, Name, Type, NotNull, DefaultVal, PrimaryKey\n",
      "(0, 'id', 'TEXT', 0, None, 1)\n",
      "(1, 'date', '', 0, None, 0)\n",
      "(2, 'time', '', 0, None, 0)\n",
      "(3, 'date_time', '', 0, None, 0)\n",
      "\n",
      "Number of entries per column:\n",
      "id: 1\n",
      "date: 1\n",
      "time: 1\n",
      "date_time: 1\n"
     ]
    }
   ],
   "source": [
    "import sqlite3\n",
    "\n",
    "\n",
    "def connect(sqlite_file):\n",
    "    \"\"\" Make connection to an SQLite database file \"\"\"\n",
    "    conn = sqlite3.connect(sqlite_file)\n",
    "    c = conn.cursor()\n",
    "    return conn, c\n",
    "\n",
    "\n",
    "def close(conn):\n",
    "    \"\"\" Commit changes and close connection to the database \"\"\"\n",
    "    # conn.commit()\n",
    "    conn.close()\n",
    "\n",
    "\n",
    "def total_rows(cursor, table_name, print_out=False):\n",
    "    \"\"\" Returns the total number of rows in the database \"\"\"\n",
    "    cursor.execute('SELECT COUNT(*) FROM {}'.format(table_name))\n",
    "    count = cursor.fetchall()\n",
    "    if print_out:\n",
    "        print('\\nTotal rows: {}'.format(count[0][0]))\n",
    "    return count[0][0]\n",
    "\n",
    "\n",
    "def table_col_info(cursor, table_name, print_out=False):\n",
    "    \"\"\" Returns a list of tuples with column informations:\n",
    "    (id, name, type, notnull, default_value, primary_key)\n",
    "    \"\"\"\n",
    "    cursor.execute('PRAGMA TABLE_INFO({})'.format(table_name))\n",
    "    info = cursor.fetchall()\n",
    "\n",
    "    if print_out:\n",
    "        print(\"\\nColumn Info:\\nID, Name, Type, NotNull, DefaultVal, PrimaryKey\")\n",
    "        for col in info:\n",
    "            print(col)\n",
    "    return info\n",
    "\n",
    "\n",
    "def values_in_col(cursor, table_name, print_out=True):\n",
    "    \"\"\" Returns a dictionary with columns as keys\n",
    "    and the number of not-null entries as associated values.\n",
    "    \"\"\"\n",
    "    cursor.execute('PRAGMA TABLE_INFO({})'.format(table_name))\n",
    "    info = cursor.fetchall()\n",
    "    col_dict = dict()\n",
    "    for col in info:\n",
    "        col_dict[col[1]] = 0\n",
    "    for col in col_dict:\n",
    "        c.execute('SELECT ({0}) FROM {1} '\n",
    "                  'WHERE {0} IS NOT NULL'.format(col, table_name))\n",
    "        # In my case this approach resulted in a\n",
    "        # better performance than using COUNT\n",
    "        number_rows = len(c.fetchall())\n",
    "        col_dict[col] = number_rows\n",
    "    if print_out:\n",
    "        print(\"\\nNumber of entries per column:\")\n",
    "        for i in col_dict.items():\n",
    "            print('{}: {}'.format(i[0], i[1]))\n",
    "    return col_dict\n",
    "\n",
    "\n",
    "if __name__ == '__main__':\n",
    "\n",
    "    sqlite_file = 'my_first_db.sqlite'\n",
    "    table_name = 'my_table_3'\n",
    "\n",
    "    conn, c = connect(sqlite_file)\n",
    "    total_rows(c, table_name, print_out=True)\n",
    "    table_col_info(c, table_name, print_out=True)\n",
    "    # next line might be slow on large databases\n",
    "    values_in_col(c, table_name, print_out=True)\n",
    "\n",
    "    close(conn)"
   ]
  },
  {
   "cell_type": "code",
   "execution_count": null,
   "metadata": {},
   "outputs": [],
   "source": []
  }
 ],
 "metadata": {
  "kernelspec": {
   "display_name": "Python 3",
   "language": "python",
   "name": "python3"
  },
  "language_info": {
   "codemirror_mode": {
    "name": "ipython",
    "version": 3
   },
   "file_extension": ".py",
   "mimetype": "text/x-python",
   "name": "python",
   "nbconvert_exporter": "python",
   "pygments_lexer": "ipython3",
   "version": "3.7.6"
  }
 },
 "nbformat": 4,
 "nbformat_minor": 4
}
